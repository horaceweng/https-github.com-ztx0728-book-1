{
  "nbformat": 4,
  "nbformat_minor": 0,
  "metadata": {
    "colab": {
      "name": "20201214.ipynb",
      "provenance": [],
      "authorship_tag": "ABX9TyMbVG2P0n7Yr7l+JE/HKtL9",
      "include_colab_link": true
    },
    "kernelspec": {
      "name": "python3",
      "display_name": "Python 3"
    }
  },
  "cells": [
    {
      "cell_type": "markdown",
      "metadata": {
        "id": "view-in-github",
        "colab_type": "text"
      },
      "source": [
        "<a href=\"https://colab.research.google.com/github/horaceweng/machine-learning-book/blob/master/20201214.ipynb\" target=\"_parent\"><img src=\"https://colab.research.google.com/assets/colab-badge.svg\" alt=\"Open In Colab\"/></a>"
      ]
    },
    {
      "cell_type": "code",
      "metadata": {
        "colab": {
          "base_uri": "https://localhost:8080/"
        },
        "id": "TD2r8heNMW1x",
        "outputId": "a6206575-8577-441a-d527-91d096669fb9"
      },
      "source": [
        "from google.colab import drive\r\n",
        "drive.mount('/content/gdrive')\r\n"
      ],
      "execution_count": null,
      "outputs": [
        {
          "output_type": "stream",
          "text": [
            "Mounted at /content/gdrive\n"
          ],
          "name": "stdout"
        }
      ]
    },
    {
      "cell_type": "code",
      "metadata": {
        "colab": {
          "base_uri": "https://localhost:8080/"
        },
        "id": "D7ttz51bZB2D",
        "outputId": "15eee86f-37ec-44a3-a3a7-1ab7f60d9b94"
      },
      "source": [
        "X=input(\"please enter a number:\")\r\n",
        "print(\"X is \", X)"
      ],
      "execution_count": 4,
      "outputs": [
        {
          "output_type": "stream",
          "text": [
            "please enter a number:10\n",
            "X is  10\n"
          ],
          "name": "stdout"
        }
      ]
    }
  ]
}